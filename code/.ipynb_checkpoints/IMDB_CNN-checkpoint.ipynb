{
 "cells": [
  {
   "cell_type": "markdown",
   "metadata": {},
   "source": [
    "# Sentiment Analysis using Convolutional Neural Networks\n",
    "## Introduction\n",
    "A basic task in sentiment analysis is classifying the polarity of a given text at the document, sentence, or feature/aspect level—whether the expressed opinion in a document, a sentence or an entity feature/aspect is positive, negative, or neutral.\n",
    "\n",
    "Sentiment analysis is widely applied to voice of the customer materials such as reviews and survey responses, online and social media, and healthcare materials for applications that range from marketing to customer service to clinical medicine.\n",
    "\n",
    "Sentiment Analysis is a common NLP task that Data Scientists need to perform. **This is a guide to creating a movie review classifier in Keras using Convolutional Neural Networks.**"
   ]
  },
  {
   "cell_type": "markdown",
   "metadata": {},
   "source": [
    "## Importing Libraries"
   ]
  },
  {
   "cell_type": "code",
   "execution_count": 1,
   "metadata": {
    "_cell_guid": "79c7e3d0-c299-4dcb-8224-4455121ee9b0",
    "_uuid": "d629ff2d2480ee46fbb7e2d37f6b5fab8052498a"
   },
   "outputs": [
    {
     "name": "stderr",
     "output_type": "stream",
     "text": [
      "/anaconda3/lib/python3.6/site-packages/h5py/__init__.py:36: FutureWarning: Conversion of the second argument of issubdtype from `float` to `np.floating` is deprecated. In future, it will be treated as `np.float64 == np.dtype(float).type`.\n",
      "  from ._conv import register_converters as _register_converters\n",
      "Using TensorFlow backend.\n"
     ]
    }
   ],
   "source": [
    "import os\n",
    "import sys\n",
    "import re\n",
    "import pickle\n",
    "from collections import defaultdict\n",
    "\n",
    "import numpy as np\n",
    "import pandas as pd\n",
    "from tqdm import tqdm\n",
    "tqdm.pandas()\n",
    "from sklearn.metrics import roc_curve,auc,confusion_matrix\n",
    "from bs4 import BeautifulSoup\n",
    "\n",
    "from keras.preprocessing.text import Tokenizer, text_to_word_sequence\n",
    "from keras.preprocessing.sequence import pad_sequences\n",
    "from keras.utils.np_utils import to_categorical\n",
    "\n",
    "from keras.layers import Embedding, Dense, Input, Flatten, Concatenate\n",
    "from keras.layers import Conv1D, MaxPooling1D, Dropout, LSTM, GRU, Bidirectional, TimeDistributed \n",
    "from keras.models import Model\n",
    "\n",
    "from keras import backend as K\n",
    "from keras.engine.topology import Layer\n",
    "from keras import initializers\n",
    "from keras.preprocessing import sequence\n",
    "from keras.callbacks import ModelCheckpoint\n",
    "from IPython.display import SVG\n",
    "from keras.utils.vis_utils import model_to_dot\n",
    "from keras.utils import plot_model\n",
    "from keras.models import load_model\n",
    "\n",
    "from nltk import tokenize\n",
    "import matplotlib.pyplot as plt\n",
    "\n",
    "iteration1 = True "
   ]
  },
  {
   "cell_type": "markdown",
   "metadata": {},
   "source": [
    "# Data Overview\n",
    "For the purpose of this analysis we’ll be using a dataset of 50,000 movie reviews taken from IMDb. \n",
    "The data was compiled by Andrew Maas and can be found here: https://ai.stanford.edu/~amaas/data/sentiment/\n",
    "\n",
    "The data is split evenly with 25k reviews intended for training and 25k for testing your classifier. Moreover, each set has 12.5k positive and 12.5k negative reviews.\n",
    "\n",
    "IMDb lets users rate movies on a scale from 1 to 10. To label these reviews the curator of the data labeled anything with ≤ 4 stars as negative and anything with ≥ 7 stars as positive. Reviews with 5 or 6 stars were left out."
   ]
  },
  {
   "cell_type": "code",
   "execution_count": 2,
   "metadata": {},
   "outputs": [],
   "source": [
    "def load_dataset(path):\n",
    "    \n",
    "    train_texts,train_labels = [],[]\n",
    "    test_texts,test_labels = [],[]\n",
    "    \n",
    "    for dataset in ['train', 'test']:\n",
    "        for category in ['pos', 'neg']:\n",
    "            dataset_path = os.path.join(path, dataset, category)\n",
    "            for filename in sorted(os.listdir(dataset_path)):\n",
    "                if filename.endswith('.txt'):\n",
    "                    with open(os.path.join(dataset_path, filename), encoding=\"utf8\") as f:\n",
    "\n",
    "                        label = 1 if category == 'pos' else 0\n",
    "                        if dataset == 'train': \n",
    "                            train_texts.append(f.read())\n",
    "                            train_labels.append(label)\n",
    "                        else: \n",
    "                            test_texts.append(f.read())\n",
    "                            test_labels.append(label)\n",
    "\n",
    "    # Converting to np.array\n",
    "    train_texts = np.array(train_texts)\n",
    "    train_labels = np.array(train_labels)\n",
    "    test_texts = np.array(test_texts)\n",
    "    test_labels = np.array(test_labels)\n",
    "\n",
    "    # Shuffle the training data\n",
    "    permutation = np.random.permutation(len(train_texts))\n",
    "    train_texts, train_labels = train_texts[permutation], train_labels[permutation]\n",
    "\n",
    "    # Shuffle the testing data\n",
    "    permutation = np.random.permutation(len(test_texts))\n",
    "    test_texts, test_labels = test_texts[permutation], test_labels[permutation]\n",
    "    \n",
    "    # Return the dataset\n",
    "    return train_texts, train_labels, test_texts, test_labels"
   ]
  },
  {
   "cell_type": "markdown",
   "metadata": {},
   "source": [
    "## Loading Dataset"
   ]
  },
  {
   "cell_type": "code",
   "execution_count": 3,
   "metadata": {},
   "outputs": [
    {
     "name": "stdout",
     "output_type": "stream",
     "text": [
      "Train samples shape : (25000,)\n",
      "Train labels shape  : (25000,)\n",
      "Test samples shape  : (25000,)\n",
      "Test labels shape   : (25000,)\n"
     ]
    }
   ],
   "source": [
    "train_texts, train_labels, test_texts, test_labels = load_dataset(\"../input/imdb-movie-reviews-dataset/aclimdb/aclImdb\")\n",
    "\n",
    "print ('Train samples shape :', train_texts.shape)\n",
    "print ('Train labels shape  :', train_labels.shape)\n",
    "print ('Test samples shape  :', test_texts.shape)\n",
    "print ('Test labels shape   :', test_labels.shape)"
   ]
  },
  {
   "cell_type": "code",
   "execution_count": 4,
   "metadata": {},
   "outputs": [
    {
     "name": "stdout",
     "output_type": "stream",
     "text": [
      "Train data shape :  (25000, 2)\n",
      "Test data shape  :  (25000, 2)\n"
     ]
    }
   ],
   "source": [
    "train_index=[i for i in range(25000)]\n",
    "data_train = pd.DataFrame({'review':train_texts.astype(str),\n",
    "                           'sentiment':train_labels\n",
    "                          },index=train_index)\n",
    "\n",
    "test_index=[i for i in range(25000,50000)]\n",
    "data_test = pd.DataFrame({'review':test_texts.astype(str),\n",
    "                          'sentiment':test_labels\n",
    "                         },index=test_index)\n",
    "\n",
    "print(\"Train data shape : \",data_train.shape)\n",
    "print(\"Test data shape  : \",data_test.shape)\n",
    "data = pd.concat([data_train, data_test])"
   ]
  },
  {
   "cell_type": "markdown",
   "metadata": {},
   "source": [
    "## Data Preprocessing\n",
    "\n",
    "In preprocessing, we are cleaning the movie reviews and making them ready for tokenizing and processing using CNN. The preprocessing steps applied were:\n",
    "* Removing punctuations from the dataset\n",
    "* Removing numbers and special characters\n",
    "* Filling missing entries"
   ]
  },
  {
   "cell_type": "code",
   "execution_count": 5,
   "metadata": {},
   "outputs": [
    {
     "name": "stderr",
     "output_type": "stream",
     "text": [
      "100%|██████████| 50000/50000 [00:06<00:00, 7401.39it/s]\n"
     ]
    }
   ],
   "source": [
    "puncts = [',', '\"', ':', ')', '(', '-', '!', '?', '|', ';', \"'\", '$', '&', '/', '[', ']', '>', '%', '=', '#', '*', '+', '\\\\',  '~', '@', '£', \n",
    " '_', '{', '}', '©', '^', '®', '`',  '<', '→', '°', '€', '™', '›',  '♥', '←', '×', '§', '″', '′', 'Â', '█', '½', 'à', '…', \n",
    " '“', '★', '”', '–', '●', 'â', '►', '−', '¢', '²', '¬', '░', '¶', '↑', '±', '¿', '▾', '═', '¦', '║', '―', '¥', '▓', '—', '‹', '─', \n",
    " '▒', '：', '¼', '⊕', '▼', '▪', '†', '■', '’', '▀', '¨', '▄', '♫', '☆', 'é', '¯', '♦', '¤', '▲', 'è', '¸', '¾', 'Ã',  '‘', '∞', \n",
    "  '）', '↓', '、', '│', '（', '»', '，', '♪', '╩', '╚', '³', '╦', '╣', '╔', '╗', '▬', '❤', 'ï', 'Ø', '¹', '≤', '‡', '√', ]\n",
    "def process_text(string):\n",
    "    string = str(string)\n",
    "    for punct in puncts:\n",
    "        string = string.replace(punct, r' ')\n",
    "    string = re.sub('[0-9]{5,}', '#####', string)\n",
    "    string = re.sub('[0-9]{4}', '####', string)\n",
    "    string = re.sub('[0-9]{3}', '###', string)\n",
    "    string = re.sub('[0-9]{2}', '##', string)\n",
    "    return string\n",
    "\n",
    "data['review'] = data['review'].progress_apply(lambda x: process_text(x))"
   ]
  },
  {
   "cell_type": "markdown",
   "metadata": {},
   "source": [
    "## Exploring Dataset"
   ]
  },
  {
   "cell_type": "code",
   "execution_count": 6,
   "metadata": {},
   "outputs": [
    {
     "name": "stdout",
     "output_type": "stream",
     "text": [
      "Average word length of review in train is 234.\n",
      "Average word length of review in train is 229.\n"
     ]
    }
   ],
   "source": [
    "print('Average word length of review in train is {0:.0f}.'.format(np.mean(data_train['review'].apply(lambda x: len(x.split())))))\n",
    "print('Average word length of review in train is {0:.0f}.'.format(np.mean(data_test['review'].apply(lambda x: len(x.split())))))"
   ]
  },
  {
   "cell_type": "code",
   "execution_count": 7,
   "metadata": {},
   "outputs": [
    {
     "name": "stdout",
     "output_type": "stream",
     "text": [
      "Max word length of review in train is 2470.\n",
      "Max word length of review in train is 2278.\n"
     ]
    }
   ],
   "source": [
    "print('Max word length of review in train is {0:.0f}.'.format(np.max(data_train['review'].apply(lambda x: len(x.split())))))\n",
    "print('Max word length of review in train is {0:.0f}.'.format(np.max(data_test['review'].apply(lambda x: len(x.split())))))"
   ]
  },
  {
   "cell_type": "code",
   "execution_count": 8,
   "metadata": {},
   "outputs": [
    {
     "name": "stdout",
     "output_type": "stream",
     "text": [
      "Min word length of review in train is 10.\n",
      "Min word length of review in train is 4.\n"
     ]
    }
   ],
   "source": [
    "print('Min word length of review in train is {0:.0f}.'.format(np.min(data_train['review'].apply(lambda x: len(x.split())))))\n",
    "print('Min word length of review in train is {0:.0f}.'.format(np.min(data_test['review'].apply(lambda x: len(x.split())))))"
   ]
  },
  {
   "cell_type": "markdown",
   "metadata": {},
   "source": [
    "## Setting Parameters\n",
    "Now, based on the exploratory data analysis, we decide the necessary parameters for our dataset. Thus, we decide, the size of the reviews to consider for contextual analysis. We also set the train and validation limit."
   ]
  },
  {
   "cell_type": "code",
   "execution_count": 9,
   "metadata": {},
   "outputs": [],
   "source": [
    "MAX_LENGTH = 200\n",
    "EMBEDDING_DIM = 300\n",
    "MAX_WORDS = 30000\n",
    "VALIDATION_SPLIT = 0.3"
   ]
  },
  {
   "cell_type": "markdown",
   "metadata": {},
   "source": [
    "## Tokenize text\n",
    "Keras provides a Tokenizer class that can be fit on the training data, can convert text to sequences consistently by calling the text_to_word_sequence() method on the Tokenizer class, and provides access to the dictionary mapping of words to integers in a word_index attribute."
   ]
  },
  {
   "cell_type": "code",
   "execution_count": 10,
   "metadata": {},
   "outputs": [],
   "source": [
    "tokenizer = Tokenizer(lower = True,num_words=MAX_WORDS)\n",
    "full_text = list(data_train['review'].values) + list(data_test['review'].values)\n",
    "tokenizer.fit_on_texts(full_text)"
   ]
  },
  {
   "cell_type": "code",
   "execution_count": 11,
   "metadata": {},
   "outputs": [],
   "source": [
    "train_tokenized = tokenizer.texts_to_sequences(data_train['review'].fillna('#'))\n",
    "test_tokenized = tokenizer.texts_to_sequences(data_test['review'].fillna('#'))\n",
    "X_train = pad_sequences(train_tokenized,maxlen = MAX_LENGTH, padding = \"post\", truncating = \"post\")\n",
    "X_test = pad_sequences(test_tokenized, maxlen = MAX_LENGTH, padding = \"post\", truncating = \"post\")\n",
    "y = data_train['sentiment']"
   ]
  },
  {
   "cell_type": "code",
   "execution_count": 12,
   "metadata": {},
   "outputs": [],
   "source": [
    "word_index = tokenizer.word_index\n",
    "nb_words = min(MAX_WORDS, len(word_index))"
   ]
  },
  {
   "cell_type": "markdown",
   "metadata": {},
   "source": [
    "## Splitting Data\n",
    "We split the train data into validation and train data."
   ]
  },
  {
   "cell_type": "code",
   "execution_count": 13,
   "metadata": {},
   "outputs": [],
   "source": [
    "from sklearn.model_selection import train_test_split\n",
    "x_train, x_val, y_train, y_val = train_test_split(X_train, y, test_size = VALIDATION_SPLIT, random_state=42)"
   ]
  },
  {
   "cell_type": "markdown",
   "metadata": {},
   "source": [
    "## Glove Word Embeddings\n",
    "\n",
    "Word embeddings provide a dense representation of words and their relative meanings. GloVe is an unsupervised learning algorithm for obtaining vector representations for words. Training is performed on aggregated global word-word co-occurrence statistics from a corpus, and the resulting representations showcase interesting linear substructures of the word vector space."
   ]
  },
  {
   "cell_type": "code",
   "execution_count": 14,
   "metadata": {},
   "outputs": [],
   "source": [
    "embedding_path = \"../input/glove840b300dtxt/glove.840B.300d.txt\"\n",
    "# function to load the glove embedding into the memory\n",
    "def get_coefs(word,*arr): \n",
    "    return word, np.asarray(arr, dtype='float32')\n",
    "\n",
    "embedding_index = dict(get_coefs(*o.split(\" \")) for o in open(embedding_path, encoding='utf-8', errors='ignore'))\n",
    "all_embs = np.stack(list(embedding_index.values()))\n",
    "emb_mean,emb_std = all_embs.mean(), all_embs.std()\n",
    "\n",
    "\n",
    "embedding_matrix = np.random.normal(emb_mean, emb_std, (nb_words + 1, EMBEDDING_DIM))\n",
    "for word, i in word_index.items():\n",
    "    if i >= MAX_WORDS: continue\n",
    "    embedding_vector = embedding_index.get(word)\n",
    "    if embedding_vector is not None: \n",
    "        embedding_matrix[i] = embedding_vector"
   ]
  },
  {
   "cell_type": "markdown",
   "metadata": {},
   "source": [
    "## Defining CNN Model "
   ]
  },
  {
   "cell_type": "code",
   "execution_count": 15,
   "metadata": {},
   "outputs": [],
   "source": [
    "def CNN_Model():\n",
    "    embedding_layer = Embedding(nb_words+1,EMBEDDING_DIM,weights=[embedding_matrix],input_length=MAX_LENGTH,trainable=False)\n",
    "    sequence_input = Input(shape=(MAX_LENGTH,))\n",
    "    embedded_sequences = embedding_layer(sequence_input)\n",
    "    filter_sizes = [1,2,3,4,5]\n",
    "    num_filters = 512\n",
    "    conv_0 = Conv1D(num_filters, filter_sizes[0], padding='valid', kernel_initializer='normal', activation='relu')(embedded_sequences)\n",
    "    conv_1 = Conv1D(num_filters, filter_sizes[1], padding='valid', kernel_initializer='normal', activation='relu')(embedded_sequences)\n",
    "    conv_2 = Conv1D(num_filters, filter_sizes[2], padding='valid', kernel_initializer='normal', activation='relu')(embedded_sequences)\n",
    "    conv_3 = Conv1D(num_filters, filter_sizes[3], padding='valid', kernel_initializer='normal', activation='relu')(embedded_sequences)\n",
    "\n",
    "    maxpool_0 = MaxPooling1D(pool_size=(MAX_LENGTH - filter_sizes[0] + 1), strides=(1), padding='valid')(conv_0)\n",
    "    maxpool_1 = MaxPooling1D(pool_size=(MAX_LENGTH - filter_sizes[1] + 1), strides=(1), padding='valid')(conv_1)\n",
    "    maxpool_2 = MaxPooling1D(pool_size=(MAX_LENGTH - filter_sizes[2] + 1), strides=(1), padding='valid')(conv_2)\n",
    "    maxpool_3 = MaxPooling1D(pool_size=(MAX_LENGTH- filter_sizes[3] + 1), strides=(1), padding='valid')(conv_3)\n",
    "\n",
    "\n",
    "    concatenated_tensor = Concatenate(axis=1)([maxpool_0, maxpool_1,maxpool_2,maxpool_3])\n",
    "    flatten = Flatten()(concatenated_tensor)\n",
    "    x = flatten\n",
    "    x = Dropout(0.3)(x)\n",
    "    x = Dense(128, activation = 'relu')(x)\n",
    "    x = Dense(64, activation = 'relu')(x)\n",
    "    outp = Dense(1, activation='sigmoid')(x)\n",
    "    model = Model(inputs=sequence_input, outputs=outp)\n",
    "    return model"
   ]
  },
  {
   "cell_type": "code",
   "execution_count": 16,
   "metadata": {},
   "outputs": [
    {
     "name": "stdout",
     "output_type": "stream",
     "text": [
      "__________________________________________________________________________________________________\n",
      "Layer (type)                    Output Shape         Param #     Connected to                     \n",
      "==================================================================================================\n",
      "input_1 (InputLayer)            (None, 200)          0                                            \n",
      "__________________________________________________________________________________________________\n",
      "embedding_1 (Embedding)         (None, 200, 300)     9000300     input_1[0][0]                    \n",
      "__________________________________________________________________________________________________\n",
      "conv1d_1 (Conv1D)               (None, 200, 512)     154112      embedding_1[0][0]                \n",
      "__________________________________________________________________________________________________\n",
      "conv1d_2 (Conv1D)               (None, 199, 512)     307712      embedding_1[0][0]                \n",
      "__________________________________________________________________________________________________\n",
      "conv1d_3 (Conv1D)               (None, 198, 512)     461312      embedding_1[0][0]                \n",
      "__________________________________________________________________________________________________\n",
      "conv1d_4 (Conv1D)               (None, 197, 512)     614912      embedding_1[0][0]                \n",
      "__________________________________________________________________________________________________\n",
      "max_pooling1d_1 (MaxPooling1D)  (None, 1, 512)       0           conv1d_1[0][0]                   \n",
      "__________________________________________________________________________________________________\n",
      "max_pooling1d_2 (MaxPooling1D)  (None, 1, 512)       0           conv1d_2[0][0]                   \n",
      "__________________________________________________________________________________________________\n",
      "max_pooling1d_3 (MaxPooling1D)  (None, 1, 512)       0           conv1d_3[0][0]                   \n",
      "__________________________________________________________________________________________________\n",
      "max_pooling1d_4 (MaxPooling1D)  (None, 1, 512)       0           conv1d_4[0][0]                   \n",
      "__________________________________________________________________________________________________\n",
      "concatenate_1 (Concatenate)     (None, 4, 512)       0           max_pooling1d_1[0][0]            \n",
      "                                                                 max_pooling1d_2[0][0]            \n",
      "                                                                 max_pooling1d_3[0][0]            \n",
      "                                                                 max_pooling1d_4[0][0]            \n",
      "__________________________________________________________________________________________________\n",
      "flatten_1 (Flatten)             (None, 2048)         0           concatenate_1[0][0]              \n",
      "__________________________________________________________________________________________________\n",
      "dropout_1 (Dropout)             (None, 2048)         0           flatten_1[0][0]                  \n",
      "__________________________________________________________________________________________________\n",
      "dense_1 (Dense)                 (None, 128)          262272      dropout_1[0][0]                  \n",
      "__________________________________________________________________________________________________\n",
      "dense_2 (Dense)                 (None, 64)           8256        dense_1[0][0]                    \n",
      "__________________________________________________________________________________________________\n",
      "dense_3 (Dense)                 (None, 1)            65          dense_2[0][0]                    \n",
      "==================================================================================================\n",
      "Total params: 10,808,941\n",
      "Trainable params: 1,808,641\n",
      "Non-trainable params: 9,000,300\n",
      "__________________________________________________________________________________________________\n",
      "None\n"
     ]
    }
   ],
   "source": [
    "model_cnn = CNN_Model()\n",
    "model_cnn.compile(loss='binary_crossentropy',optimizer='adam',metrics=['acc'])\n",
    "print(model_cnn.summary())"
   ]
  },
  {
   "cell_type": "code",
   "execution_count": 17,
   "metadata": {},
   "outputs": [
    {
     "name": "stdout",
     "output_type": "stream",
     "text": [
      "Model fitting - Convolutional Neural network\n",
      "Train on 17500 samples, validate on 7500 samples\n",
      "Epoch 1/8\n",
      "17500/17500 [==============================] - 360s 21ms/step - loss: 0.7196 - acc: 0.6144 - val_loss: 0.5394 - val_acc: 0.7225\n",
      "\n",
      "Epoch 00001: val_acc improved from -inf to 0.72253, saving model to model_cnn.hdf5\n",
      "Epoch 2/8\n",
      "17500/17500 [==============================] - 370s 21ms/step - loss: 0.4098 - acc: 0.8152 - val_loss: 0.3468 - val_acc: 0.8455\n",
      "\n",
      "Epoch 00002: val_acc improved from 0.72253 to 0.84547, saving model to model_cnn.hdf5\n",
      "Epoch 3/8\n",
      "17500/17500 [==============================] - 375s 21ms/step - loss: 0.3108 - acc: 0.8662 - val_loss: 0.3234 - val_acc: 0.8596\n",
      "\n",
      "Epoch 00003: val_acc improved from 0.84547 to 0.85960, saving model to model_cnn.hdf5\n",
      "Epoch 4/8\n",
      "17500/17500 [==============================] - 376s 21ms/step - loss: 0.2585 - acc: 0.8958 - val_loss: 0.3105 - val_acc: 0.8668\n",
      "\n",
      "Epoch 00004: val_acc improved from 0.85960 to 0.86680, saving model to model_cnn.hdf5\n",
      "Epoch 5/8\n",
      "17500/17500 [==============================] - 367s 21ms/step - loss: 0.1980 - acc: 0.9230 - val_loss: 0.3378 - val_acc: 0.8585\n",
      "\n",
      "Epoch 00005: val_acc did not improve from 0.86680\n",
      "Epoch 6/8\n",
      "17500/17500 [==============================] - 377s 22ms/step - loss: 0.1461 - acc: 0.9455 - val_loss: 0.3279 - val_acc: 0.8664\n",
      "\n",
      "Epoch 00006: val_acc did not improve from 0.86680\n",
      "Epoch 7/8\n",
      "17500/17500 [==============================] - 376s 22ms/step - loss: 0.0946 - acc: 0.9673 - val_loss: 0.3437 - val_acc: 0.8692\n",
      "\n",
      "Epoch 00007: val_acc improved from 0.86680 to 0.86920, saving model to model_cnn.hdf5\n",
      "Epoch 8/8\n",
      "17500/17500 [==============================] - 370s 21ms/step - loss: 0.0618 - acc: 0.9804 - val_loss: 0.3586 - val_acc: 0.8727\n",
      "\n",
      "Epoch 00008: val_acc improved from 0.86920 to 0.87267, saving model to model_cnn.hdf5\n"
     ]
    }
   ],
   "source": [
    "print(\"Model fitting - Convolutional Neural network\")\n",
    "if iteration1:\n",
    "    cp = ModelCheckpoint('model_cnn.hdf5',monitor='val_acc',verbose=1,save_best_only=True)\n",
    "    history = model_cnn.fit(x_train, y_train, validation_data=(x_val, y_val), epochs=8, batch_size=256,callbacks=[cp])\n",
    "    model_cnn.save(\"model_cnn.h5\")\n",
    "else:\n",
    "    history = load_model('model_cnn.h5')\n",
    "iteration1 = False"
   ]
  },
  {
   "cell_type": "markdown",
   "metadata": {},
   "source": [
    "## Evaluation of Model\n",
    "We evaluate our NN model performance by performing the AUC ROC test as well as plotting the following graph:\n",
    "* Training loss v/s validation loss\n",
    "* Training accuracy v/s validation accuracy"
   ]
  },
  {
   "cell_type": "code",
   "execution_count": 18,
   "metadata": {},
   "outputs": [
    {
     "name": "stdout",
     "output_type": "stream",
     "text": [
      "AUC for CNN is 0.9437716255999999\n"
     ]
    },
    {
     "data": {
      "image/png": "[encoded data removed]",
      "text/plain": [
       "<Figure size 432x288 with 1 Axes>"
      ]
     },
     "metadata": {},
     "output_type": "display_data"
    }
   ],
   "source": [
    "y_test = data_test['sentiment']\n",
    "scores = model_cnn.predict(X_test)\n",
    "fpr, tpr, thresholds = roc_curve(y_test, scores, pos_label=1)\n",
    "\n",
    "print(\"AUC for CNN is {}\".format(auc(fpr, tpr)))\n",
    "plt.title('ROC for CNN')\n",
    "plt.plot(fpr, tpr)\n",
    "plt.plot([0, 1], [0, 1], 'k--')\n",
    "plt.xlim([0.0, 1.0])\n",
    "plt.ylim([0.0, 1.05])\n",
    "plt.xlabel('False Positive Rate')\n",
    "plt.ylabel('True Positive Rate')\n",
    "plt.show()"
   ]
  },
  {
   "cell_type": "code",
   "execution_count": 19,
   "metadata": {},
   "outputs": [
    {
     "data": {
      "image/png": "[encoded data removed]",
      "text/plain": [
       "<Figure size 432x288 with 1 Axes>"
      ]
     },
     "metadata": {},
     "output_type": "display_data"
    }
   ],
   "source": [
    "fig1 = plt.figure()\n",
    "plt.plot(history.history['loss'],'r',linewidth=3.0)\n",
    "plt.plot(history.history['val_loss'],'b',linewidth=3.0)\n",
    "plt.legend(['Training loss', 'Validation Loss'],fontsize=18)\n",
    "plt.xlabel('Epochs ',fontsize=16)\n",
    "plt.ylabel('Loss',fontsize=16)\n",
    "plt.title('Loss Curves :CNN',fontsize=16)\n",
    "fig1.savefig('loss_cnn.png')\n",
    "plt.show()"
   ]
  },
  {
   "cell_type": "code",
   "execution_count": 20,
   "metadata": {},
   "outputs": [
    {
     "data": {
      "image/png": "[encoded data removed]",
      "text/plain": [
       "<Figure size 432x288 with 1 Axes>"
      ]
     },
     "metadata": {},
     "output_type": "display_data"
    }
   ],
   "source": [
    "fig2=plt.figure()\n",
    "plt.plot(history.history['acc'],'r',linewidth=3.0)\n",
    "plt.plot(history.history['val_acc'],'b',linewidth=3.0)\n",
    "plt.legend(['Training Accuracy', 'Validation Accuracy'],fontsize=18)\n",
    "plt.xlabel('Epochs ',fontsize=16)\n",
    "plt.ylabel('Accuracy',fontsize=16)\n",
    "plt.title('Accuracy Curves : cNN',fontsize=16)\n",
    "fig2.savefig('accuracy_cnn.png')\n",
    "plt.show()"
   ]
  },
  {
   "cell_type": "markdown",
   "metadata": {},
   "source": [
    "## Visualizing Convolutional Neural Network Architecture"
   ]
  },
  {
   "cell_type": "code",
   "execution_count": 21,
   "metadata": {},
   "outputs": [
    {
     "data": {
      "image/svg+xml": [
       "<svg height=\"702pt\" viewBox=\"0.00 0.00 714.00 702.00\" width=\"714pt\" xmlns=\"http://www.w3.org/2000/svg\" xmlns:xlink=\"http://www.w3.org/1999/xlink\">\n",
       "<g class=\"graph\" id=\"graph0\" transform=\"scale(1 1) rotate(0) translate(4 698)\">\n",
       "<title>G</title>\n",
       "<polygon fill=\"#ffffff\" points=\"-4,4 -4,-698 710,-698 710,4 -4,4\" stroke=\"transparent\"/>\n",
       "<!-- 113641090072 -->\n",
       "<g class=\"node\" id=\"node1\">\n",
       "<title>113641090072</title>\n",
       "<polygon fill=\"none\" points=\"302,-657.5 302,-693.5 403,-693.5 403,-657.5 302,-657.5\" stroke=\"#000000\"/>\n",
       "<text fill=\"#000000\" font-family=\"Times,serif\" font-size=\"14.00\" text-anchor=\"middle\" x=\"352.5\" y=\"-671.8\">input_1: InputLayer</text>\n",
       "</g>\n",
       "<!-- 113641088504 -->\n",
       "<g class=\"node\" id=\"node2\">\n",
       "<title>113641088504</title>\n",
       "<polygon fill=\"none\" points=\"288.5,-584.5 288.5,-620.5 416.5,-620.5 416.5,-584.5 288.5,-584.5\" stroke=\"#000000\"/>\n",
       "<text fill=\"#000000\" font-family=\"Times,serif\" font-size=\"14.00\" text-anchor=\"middle\" x=\"352.5\" y=\"-598.8\">embedding_1: Embedding</text>\n",
       "</g>\n",
       "<!-- 113641090072&#45;&gt;113641088504 -->\n",
       "<g class=\"edge\" id=\"edge1\">\n",
       "<title>113641090072-&gt;113641088504</title>\n",
       "<path d=\"M352.5,-657.4551C352.5,-649.3828 352.5,-639.6764 352.5,-630.6817\" fill=\"none\" stroke=\"#000000\"/>\n",
       "<polygon fill=\"#000000\" points=\"356.0001,-630.5903 352.5,-620.5904 349.0001,-630.5904 356.0001,-630.5903\" stroke=\"#000000\"/>\n",
       "</g>\n",
       "<!-- 112301401816 -->\n",
       "<g class=\"node\" id=\"node3\">\n",
       "<title>112301401816</title>\n",
       "<polygon fill=\"none\" points=\"64,-511.5 64,-547.5 163,-547.5 163,-511.5 64,-511.5\" stroke=\"#000000\"/>\n",
       "<text fill=\"#000000\" font-family=\"Times,serif\" font-size=\"14.00\" text-anchor=\"middle\" x=\"113.5\" y=\"-525.8\">conv1d_1: Conv1D</text>\n",
       "</g>\n",
       "<!-- 113641088504&#45;&gt;112301401816 -->\n",
       "<g class=\"edge\" id=\"edge2\">\n",
       "<title>113641088504-&gt;112301401816</title>\n",
       "<path d=\"M293.4213,-584.4551C256.6225,-573.2152 209.4502,-558.807 172.6398,-547.5636\" fill=\"none\" stroke=\"#000000\"/>\n",
       "<polygon fill=\"#000000\" points=\"173.6208,-544.2037 163.0346,-544.6298 171.5759,-550.8984 173.6208,-544.2037\" stroke=\"#000000\"/>\n",
       "</g>\n",
       "<!-- 113641169696 -->\n",
       "<g class=\"node\" id=\"node4\">\n",
       "<title>113641169696</title>\n",
       "<polygon fill=\"none\" points=\"229,-511.5 229,-547.5 328,-547.5 328,-511.5 229,-511.5\" stroke=\"#000000\"/>\n",
       "<text fill=\"#000000\" font-family=\"Times,serif\" font-size=\"14.00\" text-anchor=\"middle\" x=\"278.5\" y=\"-525.8\">conv1d_2: Conv1D</text>\n",
       "</g>\n",
       "<!-- 113641088504&#45;&gt;113641169696 -->\n",
       "<g class=\"edge\" id=\"edge3\">\n",
       "<title>113641088504-&gt;113641169696</title>\n",
       "<path d=\"M334.2079,-584.4551C325.1356,-575.5054 314.0271,-564.547 304.1232,-554.7769\" fill=\"none\" stroke=\"#000000\"/>\n",
       "<polygon fill=\"#000000\" points=\"306.4152,-552.1215 296.8382,-547.5904 301.4992,-557.1049 306.4152,-552.1215\" stroke=\"#000000\"/>\n",
       "</g>\n",
       "<!-- 114402958360 -->\n",
       "<g class=\"node\" id=\"node5\">\n",
       "<title>114402958360</title>\n",
       "<polygon fill=\"none\" points=\"378,-511.5 378,-547.5 477,-547.5 477,-511.5 378,-511.5\" stroke=\"#000000\"/>\n",
       "<text fill=\"#000000\" font-family=\"Times,serif\" font-size=\"14.00\" text-anchor=\"middle\" x=\"427.5\" y=\"-525.8\">conv1d_3: Conv1D</text>\n",
       "</g>\n",
       "<!-- 113641088504&#45;&gt;114402958360 -->\n",
       "<g class=\"edge\" id=\"edge4\">\n",
       "<title>113641088504-&gt;114402958360</title>\n",
       "<path d=\"M371.0393,-584.4551C380.2342,-575.5054 391.4928,-564.547 401.5305,-554.7769\" fill=\"none\" stroke=\"#000000\"/>\n",
       "<polygon fill=\"#000000\" points=\"404.1892,-557.0734 408.914,-547.5904 399.3068,-552.0572 404.1892,-557.0734\" stroke=\"#000000\"/>\n",
       "</g>\n",
       "<!-- 114220419280 -->\n",
       "<g class=\"node\" id=\"node6\">\n",
       "<title>114220419280</title>\n",
       "<polygon fill=\"none\" points=\"559,-511.5 559,-547.5 658,-547.5 658,-511.5 559,-511.5\" stroke=\"#000000\"/>\n",
       "<text fill=\"#000000\" font-family=\"Times,serif\" font-size=\"14.00\" text-anchor=\"middle\" x=\"608.5\" y=\"-525.8\">conv1d_4: Conv1D</text>\n",
       "</g>\n",
       "<!-- 113641088504&#45;&gt;114220419280 -->\n",
       "<g class=\"edge\" id=\"edge5\">\n",
       "<title>113641088504-&gt;114220419280</title>\n",
       "<path d=\"M415.7809,-584.4551C456.457,-572.856 508.9659,-557.8828 548.8991,-546.4956\" fill=\"none\" stroke=\"#000000\"/>\n",
       "<polygon fill=\"#000000\" points=\"550.109,-549.7902 558.7658,-543.682 548.1894,-543.0585 550.109,-549.7902\" stroke=\"#000000\"/>\n",
       "</g>\n",
       "<!-- 114220576328 -->\n",
       "<g class=\"node\" id=\"node7\">\n",
       "<title>114220576328</title>\n",
       "<polygon fill=\"none\" points=\"0,-438.5 0,-474.5 163,-474.5 163,-438.5 0,-438.5\" stroke=\"#000000\"/>\n",
       "<text fill=\"#000000\" font-family=\"Times,serif\" font-size=\"14.00\" text-anchor=\"middle\" x=\"81.5\" y=\"-452.8\">max_pooling1d_1: MaxPooling1D</text>\n",
       "</g>\n",
       "<!-- 112301401816&#45;&gt;114220576328 -->\n",
       "<g class=\"edge\" id=\"edge6\">\n",
       "<title>112301401816-&gt;114220576328</title>\n",
       "<path d=\"M105.5899,-511.4551C101.936,-503.1196 97.5182,-493.0416 93.469,-483.8042\" fill=\"none\" stroke=\"#000000\"/>\n",
       "<polygon fill=\"#000000\" points=\"96.6504,-482.3439 89.43,-474.5904 90.2393,-485.1542 96.6504,-482.3439\" stroke=\"#000000\"/>\n",
       "</g>\n",
       "<!-- 114220576048 -->\n",
       "<g class=\"node\" id=\"node8\">\n",
       "<title>114220576048</title>\n",
       "<polygon fill=\"none\" points=\"181,-438.5 181,-474.5 344,-474.5 344,-438.5 181,-438.5\" stroke=\"#000000\"/>\n",
       "<text fill=\"#000000\" font-family=\"Times,serif\" font-size=\"14.00\" text-anchor=\"middle\" x=\"262.5\" y=\"-452.8\">max_pooling1d_2: MaxPooling1D</text>\n",
       "</g>\n",
       "<!-- 113641169696&#45;&gt;114220576048 -->\n",
       "<g class=\"edge\" id=\"edge7\">\n",
       "<title>113641169696-&gt;114220576048</title>\n",
       "<path d=\"M274.5449,-511.4551C272.7565,-503.2951 270.602,-493.4652 268.6126,-484.3887\" fill=\"none\" stroke=\"#000000\"/>\n",
       "<polygon fill=\"#000000\" points=\"272.0249,-483.6091 266.465,-474.5904 265.1872,-485.1079 272.0249,-483.6091\" stroke=\"#000000\"/>\n",
       "</g>\n",
       "<!-- 114220682208 -->\n",
       "<g class=\"node\" id=\"node9\">\n",
       "<title>114220682208</title>\n",
       "<polygon fill=\"none\" points=\"362,-438.5 362,-474.5 525,-474.5 525,-438.5 362,-438.5\" stroke=\"#000000\"/>\n",
       "<text fill=\"#000000\" font-family=\"Times,serif\" font-size=\"14.00\" text-anchor=\"middle\" x=\"443.5\" y=\"-452.8\">max_pooling1d_3: MaxPooling1D</text>\n",
       "</g>\n",
       "<!-- 114402958360&#45;&gt;114220682208 -->\n",
       "<g class=\"edge\" id=\"edge8\">\n",
       "<title>114402958360-&gt;114220682208</title>\n",
       "<path d=\"M431.4551,-511.4551C433.2435,-503.2951 435.398,-493.4652 437.3874,-484.3887\" fill=\"none\" stroke=\"#000000\"/>\n",
       "<polygon fill=\"#000000\" points=\"440.8128,-485.1079 439.535,-474.5904 433.9751,-483.6091 440.8128,-485.1079\" stroke=\"#000000\"/>\n",
       "</g>\n",
       "<!-- 114220797064 -->\n",
       "<g class=\"node\" id=\"node10\">\n",
       "<title>114220797064</title>\n",
       "<polygon fill=\"none\" points=\"543,-438.5 543,-474.5 706,-474.5 706,-438.5 543,-438.5\" stroke=\"#000000\"/>\n",
       "<text fill=\"#000000\" font-family=\"Times,serif\" font-size=\"14.00\" text-anchor=\"middle\" x=\"624.5\" y=\"-452.8\">max_pooling1d_4: MaxPooling1D</text>\n",
       "</g>\n",
       "<!-- 114220419280&#45;&gt;114220797064 -->\n",
       "<g class=\"edge\" id=\"edge9\">\n",
       "<title>114220419280-&gt;114220797064</title>\n",
       "<path d=\"M612.4551,-511.4551C614.2435,-503.2951 616.398,-493.4652 618.3874,-484.3887\" fill=\"none\" stroke=\"#000000\"/>\n",
       "<polygon fill=\"#000000\" points=\"621.8128,-485.1079 620.535,-474.5904 614.9751,-483.6091 621.8128,-485.1079\" stroke=\"#000000\"/>\n",
       "</g>\n",
       "<!-- 114220797792 -->\n",
       "<g class=\"node\" id=\"node11\">\n",
       "<title>114220797792</title>\n",
       "<polygon fill=\"none\" points=\"285.5,-365.5 285.5,-401.5 419.5,-401.5 419.5,-365.5 285.5,-365.5\" stroke=\"#000000\"/>\n",
       "<text fill=\"#000000\" font-family=\"Times,serif\" font-size=\"14.00\" text-anchor=\"middle\" x=\"352.5\" y=\"-379.8\">concatenate_1: Concatenate</text>\n",
       "</g>\n",
       "<!-- 114220576328&#45;&gt;114220797792 -->\n",
       "<g class=\"edge\" id=\"edge10\">\n",
       "<title>114220576328-&gt;114220797792</title>\n",
       "<path d=\"M148.4888,-438.4551C187.0058,-428.0796 235.5456,-415.0043 275.6145,-404.2109\" fill=\"none\" stroke=\"#000000\"/>\n",
       "<polygon fill=\"#000000\" points=\"276.5972,-407.571 285.3426,-401.5904 274.7764,-400.8119 276.5972,-407.571\" stroke=\"#000000\"/>\n",
       "</g>\n",
       "<!-- 114220576048&#45;&gt;114220797792 -->\n",
       "<g class=\"edge\" id=\"edge11\">\n",
       "<title>114220576048-&gt;114220797792</title>\n",
       "<path d=\"M284.7472,-438.4551C296.1055,-429.2422 310.0883,-417.9006 322.3956,-407.918\" fill=\"none\" stroke=\"#000000\"/>\n",
       "<polygon fill=\"#000000\" points=\"324.6352,-410.6081 330.1968,-401.5904 320.2256,-405.1716 324.6352,-410.6081\" stroke=\"#000000\"/>\n",
       "</g>\n",
       "<!-- 114220682208&#45;&gt;114220797792 -->\n",
       "<g class=\"edge\" id=\"edge12\">\n",
       "<title>114220682208-&gt;114220797792</title>\n",
       "<path d=\"M421.0056,-438.4551C409.5211,-429.2422 395.383,-417.9006 382.9389,-407.918\" fill=\"none\" stroke=\"#000000\"/>\n",
       "<polygon fill=\"#000000\" points=\"385.0414,-405.1177 375.051,-401.5904 380.6612,-410.5779 385.0414,-405.1177\" stroke=\"#000000\"/>\n",
       "</g>\n",
       "<!-- 114220797064&#45;&gt;114220797792 -->\n",
       "<g class=\"edge\" id=\"edge13\">\n",
       "<title>114220797064-&gt;114220797792</title>\n",
       "<path d=\"M557.264,-438.4551C518.6049,-428.0796 469.886,-415.0043 429.6693,-404.2109\" fill=\"none\" stroke=\"#000000\"/>\n",
       "<polygon fill=\"#000000\" points=\"430.4706,-400.8022 419.9052,-401.5904 428.6561,-407.5629 430.4706,-400.8022\" stroke=\"#000000\"/>\n",
       "</g>\n",
       "<!-- 114220797904 -->\n",
       "<g class=\"node\" id=\"node12\">\n",
       "<title>114220797904</title>\n",
       "<polygon fill=\"none\" points=\"308.5,-292.5 308.5,-328.5 396.5,-328.5 396.5,-292.5 308.5,-292.5\" stroke=\"#000000\"/>\n",
       "<text fill=\"#000000\" font-family=\"Times,serif\" font-size=\"14.00\" text-anchor=\"middle\" x=\"352.5\" y=\"-306.8\">flatten_1: Flatten</text>\n",
       "</g>\n",
       "<!-- 114220797792&#45;&gt;114220797904 -->\n",
       "<g class=\"edge\" id=\"edge14\">\n",
       "<title>114220797792-&gt;114220797904</title>\n",
       "<path d=\"M352.5,-365.4551C352.5,-357.3828 352.5,-347.6764 352.5,-338.6817\" fill=\"none\" stroke=\"#000000\"/>\n",
       "<polygon fill=\"#000000\" points=\"356.0001,-338.5903 352.5,-328.5904 349.0001,-338.5904 356.0001,-338.5903\" stroke=\"#000000\"/>\n",
       "</g>\n",
       "<!-- 114220969096 -->\n",
       "<g class=\"node\" id=\"node13\">\n",
       "<title>114220969096</title>\n",
       "<polygon fill=\"none\" points=\"302.5,-219.5 302.5,-255.5 402.5,-255.5 402.5,-219.5 302.5,-219.5\" stroke=\"#000000\"/>\n",
       "<text fill=\"#000000\" font-family=\"Times,serif\" font-size=\"14.00\" text-anchor=\"middle\" x=\"352.5\" y=\"-233.8\">dropout_1: Dropout</text>\n",
       "</g>\n",
       "<!-- 114220797904&#45;&gt;114220969096 -->\n",
       "<g class=\"edge\" id=\"edge15\">\n",
       "<title>114220797904-&gt;114220969096</title>\n",
       "<path d=\"M352.5,-292.4551C352.5,-284.3828 352.5,-274.6764 352.5,-265.6817\" fill=\"none\" stroke=\"#000000\"/>\n",
       "<polygon fill=\"#000000\" points=\"356.0001,-265.5903 352.5,-255.5904 349.0001,-265.5904 356.0001,-265.5903\" stroke=\"#000000\"/>\n",
       "</g>\n",
       "<!-- 114220967192 -->\n",
       "<g class=\"node\" id=\"node14\">\n",
       "<title>114220967192</title>\n",
       "<polygon fill=\"none\" points=\"311,-146.5 311,-182.5 394,-182.5 394,-146.5 311,-146.5\" stroke=\"#000000\"/>\n",
       "<text fill=\"#000000\" font-family=\"Times,serif\" font-size=\"14.00\" text-anchor=\"middle\" x=\"352.5\" y=\"-160.8\">dense_1: Dense</text>\n",
       "</g>\n",
       "<!-- 114220969096&#45;&gt;114220967192 -->\n",
       "<g class=\"edge\" id=\"edge16\">\n",
       "<title>114220969096-&gt;114220967192</title>\n",
       "<path d=\"M352.5,-219.4551C352.5,-211.3828 352.5,-201.6764 352.5,-192.6817\" fill=\"none\" stroke=\"#000000\"/>\n",
       "<polygon fill=\"#000000\" points=\"356.0001,-192.5903 352.5,-182.5904 349.0001,-192.5904 356.0001,-192.5903\" stroke=\"#000000\"/>\n",
       "</g>\n",
       "<!-- 114221075648 -->\n",
       "<g class=\"node\" id=\"node15\">\n",
       "<title>114221075648</title>\n",
       "<polygon fill=\"none\" points=\"311,-73.5 311,-109.5 394,-109.5 394,-73.5 311,-73.5\" stroke=\"#000000\"/>\n",
       "<text fill=\"#000000\" font-family=\"Times,serif\" font-size=\"14.00\" text-anchor=\"middle\" x=\"352.5\" y=\"-87.8\">dense_2: Dense</text>\n",
       "</g>\n",
       "<!-- 114220967192&#45;&gt;114221075648 -->\n",
       "<g class=\"edge\" id=\"edge17\">\n",
       "<title>114220967192-&gt;114221075648</title>\n",
       "<path d=\"M352.5,-146.4551C352.5,-138.3828 352.5,-128.6764 352.5,-119.6817\" fill=\"none\" stroke=\"#000000\"/>\n",
       "<polygon fill=\"#000000\" points=\"356.0001,-119.5903 352.5,-109.5904 349.0001,-119.5904 356.0001,-119.5903\" stroke=\"#000000\"/>\n",
       "</g>\n",
       "<!-- 114221381504 -->\n",
       "<g class=\"node\" id=\"node16\">\n",
       "<title>114221381504</title>\n",
       "<polygon fill=\"none\" points=\"311,-.5 311,-36.5 394,-36.5 394,-.5 311,-.5\" stroke=\"#000000\"/>\n",
       "<text fill=\"#000000\" font-family=\"Times,serif\" font-size=\"14.00\" text-anchor=\"middle\" x=\"352.5\" y=\"-14.8\">dense_3: Dense</text>\n",
       "</g>\n",
       "<!-- 114221075648&#45;&gt;114221381504 -->\n",
       "<g class=\"edge\" id=\"edge18\">\n",
       "<title>114221075648-&gt;114221381504</title>\n",
       "<path d=\"M352.5,-73.4551C352.5,-65.3828 352.5,-55.6764 352.5,-46.6817\" fill=\"none\" stroke=\"#000000\"/>\n",
       "<polygon fill=\"#000000\" points=\"356.0001,-46.5903 352.5,-36.5904 349.0001,-46.5904 356.0001,-46.5903\" stroke=\"#000000\"/>\n",
       "</g>\n",
       "</g>\n",
       "</svg>"
      ],
      "text/plain": [
       "<IPython.core.display.SVG object>"
      ]
     },
     "execution_count": 21,
     "metadata": {},
     "output_type": "execute_result"
    }
   ],
   "source": [
    "SVG(model_to_dot(model_cnn).create(prog='dot', format='svg'))"
   ]
  },
  {
   "cell_type": "code",
   "execution_count": 22,
   "metadata": {},
   "outputs": [],
   "source": [
    "plot_model(model_cnn, to_file='model_cnn.png')"
   ]
  },
  {
   "cell_type": "code",
   "execution_count": null,
   "metadata": {},
   "outputs": [],
   "source": []
  }
 ],
 "metadata": {
  "kernelspec": {
   "display_name": "Python 3",
   "language": "python",
   "name": "python3"
  },
  "language_info": {
   "codemirror_mode": {
    "name": "ipython",
    "version": 3
   },
   "file_extension": ".py",
   "mimetype": "text/x-python",
   "name": "python",
   "nbconvert_exporter": "python",
   "pygments_lexer": "ipython3",
   "version": "3.6.5"
  }
 },
 "nbformat": 4,
 "nbformat_minor": 1
}
